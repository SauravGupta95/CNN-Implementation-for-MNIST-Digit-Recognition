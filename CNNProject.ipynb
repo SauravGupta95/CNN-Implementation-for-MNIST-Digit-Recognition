{
  "nbformat": 4,
  "nbformat_minor": 0,
  "metadata": {
    "colab": {
      "provenance": [],
      "include_colab_link": true
    },
    "kernelspec": {
      "name": "python3",
      "display_name": "Python 3"
    },
    "language_info": {
      "name": "python"
    }
  },
  "cells": [
    {
      "cell_type": "markdown",
      "metadata": {
        "id": "view-in-github",
        "colab_type": "text"
      },
      "source": [
        "<a href=\"https://colab.research.google.com/github/SauravGupta95/CNN-Implementation-for-MNIST-Digit-Recognition/blob/main/CNNProject.ipynb\" target=\"_parent\"><img src=\"https://colab.research.google.com/assets/colab-badge.svg\" alt=\"Open In Colab\"/></a>"
      ]
    },
    {
      "cell_type": "markdown",
      "source": [
        "# Importing numpy, pandas, sklearn, matplotlib, tensorflow"
      ],
      "metadata": {
        "id": "IyVgmBFNqpXE"
      }
    },
    {
      "cell_type": "code",
      "execution_count": 1,
      "metadata": {
        "id": "s-x8NqA2hZ-U"
      },
      "outputs": [],
      "source": [
        "import numpy as np\n",
        "import pandas as pd\n",
        "from sklearn.model_selection import train_test_split, KFold\n",
        "from sklearn.metrics import confusion_matrix, accuracy_score\n",
        "import matplotlib.pyplot as plt\n",
        "from tensorflow.keras.models import Sequential\n",
        "from tensorflow.keras.layers import Conv2D, MaxPooling2D, Flatten, Dense"
      ]
    },
    {
      "cell_type": "markdown",
      "source": [
        "# Step 1: Load the MNIST dataset"
      ],
      "metadata": {
        "id": "u7f8DDZzqGqQ"
      }
    },
    {
      "cell_type": "code",
      "source": [
        "\n",
        "def load_mnist_from_csv():\n",
        "    url = \"https://archive.ics.uci.edu/ml/machine-learning-databases/optdigits/optdigits.tra\"\n",
        "    # Read the CSV file into a pandas DataFrame\n",
        "    df = pd.read_csv(url, header=None)\n",
        "    # Extract features (pixel values) and labels from the DataFrame\n",
        "    X = df.iloc[:, :-1].values\n",
        "    y = df.iloc[:, -1].values\n",
        "    return X, y"
      ],
      "metadata": {
        "id": "n4JvbQwEhb04"
      },
      "execution_count": 2,
      "outputs": []
    },
    {
      "cell_type": "markdown",
      "source": [
        "# Step 2: Preprocess the data"
      ],
      "metadata": {
        "id": "cVER9giYqLtW"
      }
    },
    {
      "cell_type": "code",
      "source": [
        "\n",
        "def preprocess_mnist(X, y):\n",
        "    # Normalize pixel values\n",
        "    X = X / 16.0  # Pixel values range from 0 to 16\n",
        "    # Reshape images to 8x8 (as the original dataset contains flattened 8x8 images)\n",
        "    X = X.reshape(-1, 8, 8, 1)\n",
        "    return X, y"
      ],
      "metadata": {
        "id": "lvo9SL2Ihbyt"
      },
      "execution_count": 3,
      "outputs": []
    },
    {
      "cell_type": "markdown",
      "source": [
        "# Load the dataset"
      ],
      "metadata": {
        "id": "LSCaaZFoqN-F"
      }
    },
    {
      "cell_type": "code",
      "source": [
        "\n",
        "X, y = load_mnist_from_csv()"
      ],
      "metadata": {
        "id": "dxP5ENq2hbwf"
      },
      "execution_count": 4,
      "outputs": []
    },
    {
      "cell_type": "markdown",
      "source": [
        "# Preprocess the data"
      ],
      "metadata": {
        "id": "Za6jBUzoqPrc"
      }
    },
    {
      "cell_type": "code",
      "source": [
        "\n",
        "X, y = preprocess_mnist(X, y)"
      ],
      "metadata": {
        "id": "-ZSWrI2EhbuF"
      },
      "execution_count": 5,
      "outputs": []
    },
    {
      "cell_type": "markdown",
      "source": [
        "# K-Fold Cross Validation"
      ],
      "metadata": {
        "id": "xhQiUBEsqSM2"
      }
    },
    {
      "cell_type": "code",
      "source": [
        "\n",
        "kf = KFold(n_splits=5, shuffle=True, random_state=42)"
      ],
      "metadata": {
        "id": "1-UE-AM_lReS"
      },
      "execution_count": 6,
      "outputs": []
    },
    {
      "cell_type": "markdown",
      "source": [
        "# Lists to store evaluation results"
      ],
      "metadata": {
        "id": "du1S0WtGqUUv"
      }
    },
    {
      "cell_type": "code",
      "source": [
        "\n",
        "accuracy_scores = []\n",
        "conf_matrices = []"
      ],
      "metadata": {
        "id": "0Bzzgdu7lRKS"
      },
      "execution_count": 7,
      "outputs": []
    },
    {
      "cell_type": "markdown",
      "source": [
        "# Iterate over K-Fold splits"
      ],
      "metadata": {
        "id": "ATTa-BxhqWhF"
      }
    },
    {
      "cell_type": "code",
      "source": [
        "\n",
        "for train_index, test_index in kf.split(X):\n",
        "    X_train, X_test = X[train_index], X[test_index]\n",
        "    y_train, y_test = y[train_index], y[test_index]\n"
      ],
      "metadata": {
        "id": "rWNCwR2ThbrK"
      },
      "execution_count": 8,
      "outputs": []
    },
    {
      "cell_type": "markdown",
      "source": [
        "# Define the CNN architecture"
      ],
      "metadata": {
        "id": "txKJ9j0aqYGo"
      }
    },
    {
      "cell_type": "code",
      "source": [
        "\n",
        "model = Sequential([\n",
        "    # Convolutional Layer 1\n",
        "    Conv2D(filters=32, kernel_size=(3, 3), activation='relu', input_shape=(8, 8, 1), padding='same'),\n",
        "    # Max Pooling Layer 1\n",
        "    MaxPooling2D(pool_size=(2, 2)),\n",
        "    # Convolutional Layer 2\n",
        "    Conv2D(filters=64, kernel_size=(3, 3), activation='relu', padding='same'),\n",
        "    # Max Pooling Layer 2\n",
        "    MaxPooling2D(pool_size=(2, 2)),\n",
        "    # Convolutional Layer 3\n",
        "    Conv2D(filters=128, kernel_size=(3, 3), activation='relu', padding='same'),\n",
        "    # Flatten layer\n",
        "    Flatten(),\n",
        "    # Fully connected layer\n",
        "    Dense(units=128, activation='relu'),\n",
        "    # Output layer\n",
        "    Dense(units=10, activation='softmax')\n",
        "])"
      ],
      "metadata": {
        "id": "KtcFRDlZiD-U"
      },
      "execution_count": 9,
      "outputs": []
    },
    {
      "cell_type": "markdown",
      "source": [
        "# Compile the model"
      ],
      "metadata": {
        "id": "vb0NeA9aqZ47"
      }
    },
    {
      "cell_type": "code",
      "source": [
        "\n",
        "model.compile(optimizer='adam', loss='sparse_categorical_crossentropy', metrics=['accuracy'])\n"
      ],
      "metadata": {
        "id": "qPMuUi3SmXUo"
      },
      "execution_count": 10,
      "outputs": []
    },
    {
      "cell_type": "markdown",
      "source": [
        "# Train the model"
      ],
      "metadata": {
        "id": "2-SJgcqBqbxd"
      }
    },
    {
      "cell_type": "code",
      "source": [
        "\n",
        "history = model.fit(X_train, y_train, epochs=10, batch_size=32, validation_data=(X_test, y_test), verbose=1)\n"
      ],
      "metadata": {
        "colab": {
          "base_uri": "https://localhost:8080/"
        },
        "id": "DOW3c-QMhbim",
        "outputId": "c4cf6b06-c999-4159-b640-398b90f01432"
      },
      "execution_count": 11,
      "outputs": [
        {
          "output_type": "stream",
          "name": "stdout",
          "text": [
            "Epoch 1/10\n",
            "96/96 [==============================] - 4s 19ms/step - loss: 1.1805 - accuracy: 0.6201 - val_loss: 0.2283 - val_accuracy: 0.9411\n",
            "Epoch 2/10\n",
            "96/96 [==============================] - 1s 12ms/step - loss: 0.1787 - accuracy: 0.9503 - val_loss: 0.0981 - val_accuracy: 0.9751\n",
            "Epoch 3/10\n",
            "96/96 [==============================] - 1s 11ms/step - loss: 0.1202 - accuracy: 0.9673 - val_loss: 0.0780 - val_accuracy: 0.9791\n",
            "Epoch 4/10\n",
            "96/96 [==============================] - 1s 12ms/step - loss: 0.0827 - accuracy: 0.9755 - val_loss: 0.0776 - val_accuracy: 0.9777\n",
            "Epoch 5/10\n",
            "96/96 [==============================] - 1s 12ms/step - loss: 0.0694 - accuracy: 0.9794 - val_loss: 0.1031 - val_accuracy: 0.9725\n",
            "Epoch 6/10\n",
            "96/96 [==============================] - 1s 12ms/step - loss: 0.0661 - accuracy: 0.9804 - val_loss: 0.0434 - val_accuracy: 0.9869\n",
            "Epoch 7/10\n",
            "96/96 [==============================] - 1s 12ms/step - loss: 0.0375 - accuracy: 0.9886 - val_loss: 0.0358 - val_accuracy: 0.9895\n",
            "Epoch 8/10\n",
            "96/96 [==============================] - 1s 13ms/step - loss: 0.0289 - accuracy: 0.9905 - val_loss: 0.0614 - val_accuracy: 0.9804\n",
            "Epoch 9/10\n",
            "96/96 [==============================] - 1s 11ms/step - loss: 0.0377 - accuracy: 0.9886 - val_loss: 0.0637 - val_accuracy: 0.9817\n",
            "Epoch 10/10\n",
            "96/96 [==============================] - 2s 18ms/step - loss: 0.0159 - accuracy: 0.9954 - val_loss: 0.0371 - val_accuracy: 0.9869\n"
          ]
        }
      ]
    },
    {
      "cell_type": "markdown",
      "source": [
        "# Evaluate the model"
      ],
      "metadata": {
        "id": "n0bvFxrYqd0j"
      }
    },
    {
      "cell_type": "code",
      "source": [
        "test_loss, test_accuracy = model.evaluate(X_test, y_test, verbose=1)\n",
        "print(\"Test Loss:\", test_loss)\n",
        "print(\"Test Accuracy:\", test_accuracy)\n",
        "_, test_accuracy = model.evaluate(X_test, y_test, verbose=0)\n",
        "accuracy_scores.append(test_accuracy)"
      ],
      "metadata": {
        "colab": {
          "base_uri": "https://localhost:8080/"
        },
        "id": "cDC7jOaEnq1a",
        "outputId": "4a2661be-afe0-4123-c1bb-28aa50975015"
      },
      "execution_count": 12,
      "outputs": [
        {
          "output_type": "stream",
          "name": "stdout",
          "text": [
            "24/24 [==============================] - 0s 7ms/step - loss: 0.0371 - accuracy: 0.9869\n",
            "Test Loss: 0.037061724811792374\n",
            "Test Accuracy: 0.9869109988212585\n"
          ]
        }
      ]
    },
    {
      "cell_type": "markdown",
      "source": [
        "# Confusion matrix"
      ],
      "metadata": {
        "id": "-4j2zMFWqg4u"
      }
    },
    {
      "cell_type": "code",
      "source": [
        "\n",
        "y_pred = np.argmax(model.predict(X_test), axis=-1)\n",
        "conf_matrix = confusion_matrix(y_test, y_pred)\n",
        "conf_matrices.append(conf_matrix)"
      ],
      "metadata": {
        "colab": {
          "base_uri": "https://localhost:8080/"
        },
        "id": "Hq16z4Qnhbbb",
        "outputId": "3b5f720f-2f6f-47b6-8f08-46bf8496a8af"
      },
      "execution_count": 13,
      "outputs": [
        {
          "output_type": "stream",
          "name": "stdout",
          "text": [
            "24/24 [==============================] - 0s 4ms/step\n"
          ]
        }
      ]
    },
    {
      "cell_type": "markdown",
      "source": [
        "# Plot training history"
      ],
      "metadata": {
        "id": "dxR-1BSyqjG0"
      }
    },
    {
      "cell_type": "code",
      "source": [
        "\n",
        "plt.plot(history.history['loss'], label='Training Loss')\n",
        "plt.plot(history.history['val_loss'], label='Validation Loss')\n",
        "plt.title('Training and Validation Loss')\n",
        "plt.xlabel('Epoch')\n",
        "plt.ylabel('Loss')\n",
        "plt.legend()\n",
        "plt.show()\n",
        "plt.plot(history.history['accuracy'], label='Training Accuracy')\n",
        "plt.plot(history.history['val_accuracy'], label='Validation Accuracy')\n",
        "plt.title('Training and Validation Accuracy')\n",
        "plt.xlabel('Epoch')\n",
        "plt.ylabel('Accuracy')\n",
        "plt.legend()\n",
        "plt.show()"
      ],
      "metadata": {
        "colab": {
          "base_uri": "https://localhost:8080/",
          "height": 927
        },
        "id": "5aDcAUkNhbXx",
        "outputId": "e2e83e48-a834-47ad-8448-a0ba03d6b4fd"
      },
      "execution_count": 14,
      "outputs": [
        {
          "output_type": "display_data",
          "data": {
            "text/plain": [
              "<Figure size 640x480 with 1 Axes>"
            ],
            "image/png": "[encoded data removed]"
          },
          "metadata": {}
        },
        {
          "output_type": "display_data",
          "data": {
            "text/plain": [
              "<Figure size 640x480 with 1 Axes>"
            ],
            "image/png": "[encoded data removed]"
          },
          "metadata": {}
        }
      ]
    },
    {
      "cell_type": "markdown",
      "source": [
        "# Average accuracy across K-Fold splits"
      ],
      "metadata": {
        "id": "EvMbjreSqlhs"
      }
    },
    {
      "cell_type": "code",
      "source": [
        "\n",
        "avg_accuracy = np.mean(accuracy_scores)\n",
        "print(\"Average Accuracy:\", avg_accuracy)"
      ],
      "metadata": {
        "colab": {
          "base_uri": "https://localhost:8080/"
        },
        "id": "hqZlGX2phbQ8",
        "outputId": "3ef6956e-a4ad-43b0-ebe7-10af2cc34698"
      },
      "execution_count": 15,
      "outputs": [
        {
          "output_type": "stream",
          "name": "stdout",
          "text": [
            "Average Accuracy: 0.9869109988212585\n"
          ]
        }
      ]
    },
    {
      "cell_type": "markdown",
      "source": [
        "# Average confusion matrix across K-Fold splits"
      ],
      "metadata": {
        "id": "1-3aG30DqnGC"
      }
    },
    {
      "cell_type": "code",
      "source": [
        "\n",
        "avg_conf_matrix = np.mean(conf_matrices, axis=0)\n",
        "print(\"Average Confusion Matrix:\")\n",
        "print(avg_conf_matrix.astype(int))"
      ],
      "metadata": {
        "colab": {
          "base_uri": "https://localhost:8080/"
        },
        "id": "wB70ask5hbMb",
        "outputId": "b4726071-b6c2-4f23-ccf6-b6b147034e9d"
      },
      "execution_count": 16,
      "outputs": [
        {
          "output_type": "stream",
          "name": "stdout",
          "text": [
            "Average Confusion Matrix:\n",
            "[[60  0  0  0  0  0  0  0  0  0]\n",
            " [ 0 73  1  0  0  0  0  0  0  0]\n",
            " [ 0  0 77  0  0  0  0  0  0  0]\n",
            " [ 0  0  0 69  0  0  0  0  0  0]\n",
            " [ 0  0  0  0 84  0  1  0  0  1]\n",
            " [ 0  0  0  0  0 71  0  0  0  0]\n",
            " [ 0  0  0  0  1  0 68  0  0  0]\n",
            " [ 0  0  0  0  0  0  0 88  0  0]\n",
            " [ 0  1  0  0  0  0  0  0 80  0]\n",
            " [ 1  1  0  1  1  0  0  0  1 84]]\n"
          ]
        }
      ]
    }
  ]
}